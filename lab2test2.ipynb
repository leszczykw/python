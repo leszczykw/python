{
  "nbformat": 4,
  "nbformat_minor": 0,
  "metadata": {
    "colab": {
      "provenance": [],
      "authorship_tag": "ABX9TyOAB/cA/kWn6BuXE6kUxJpG",
      "include_colab_link": true
    },
    "kernelspec": {
      "name": "python3",
      "display_name": "Python 3"
    },
    "language_info": {
      "name": "python"
    }
  },
  "cells": [
    {
      "cell_type": "markdown",
      "metadata": {
        "id": "view-in-github",
        "colab_type": "text"
      },
      "source": [
        "<a href=\"https://colab.research.google.com/github/leszczykw/python/blob/for_variant/lab2test2.ipynb\" target=\"_parent\"><img src=\"https://colab.research.google.com/assets/colab-badge.svg\" alt=\"Open In Colab\"/></a>"
      ]
    },
    {
      "cell_type": "code",
      "execution_count": 2,
      "metadata": {
        "id": "51NIax3BKUTv"
      },
      "outputs": [],
      "source": [
        "my_list = [\"fkjfjew\" , \"fewfe\", \"efijeufhew\", 1, 2]"
      ]
    },
    {
      "cell_type": "code",
      "source": [
        "my_list = [\"fkjfjew\" , \"fewfe\", \"efijeufhew\", 1, 2]\n",
        "\n",
        "for item in my_list:\n",
        "  print(item)"
      ],
      "metadata": {
        "colab": {
          "base_uri": "https://localhost:8080/"
        },
        "id": "S4C1DcSeMAl4",
        "outputId": "c59dea17-b654-4f40-a956-8979e67e9ebd"
      },
      "execution_count": 6,
      "outputs": [
        {
          "output_type": "stream",
          "name": "stdout",
          "text": [
            "fkjfjew\n",
            "fewfe\n",
            "efijeufhew\n",
            "1\n",
            "2\n"
          ]
        }
      ]
    },
    {
      "cell_type": "code",
      "source": [],
      "metadata": {
        "id": "3W7eJ6g-MBdE"
      },
      "execution_count": null,
      "outputs": []
    }
  ]
}