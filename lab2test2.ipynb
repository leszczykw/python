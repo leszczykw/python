{
  "nbformat": 4,
  "nbformat_minor": 0,
  "metadata": {
    "colab": {
      "provenance": [],
      "authorship_tag": "ABX9TyODKiYq4/Kd/sEp9DFT4Y+j",
      "include_colab_link": true
    },
    "kernelspec": {
      "name": "python3",
      "display_name": "Python 3"
    },
    "language_info": {
      "name": "python"
    }
  },
  "cells": [
    {
      "cell_type": "markdown",
      "metadata": {
        "id": "view-in-github",
        "colab_type": "text"
      },
      "source": [
        "<a href=\"https://colab.research.google.com/github/leszczykw/python/blob/while_variant/lab2test2.ipynb\" target=\"_parent\"><img src=\"https://colab.research.google.com/assets/colab-badge.svg\" alt=\"Open In Colab\"/></a>"
      ]
    },
    {
      "cell_type": "code",
      "execution_count": 2,
      "metadata": {
        "id": "51NIax3BKUTv"
      },
      "outputs": [],
      "source": [
        "my_list = [\"fkjfjew\" , \"fewfe\", \"efijeufhew\", 1, 2]"
      ]
    },
    {
      "cell_type": "code",
      "source": [
        "my_list = [\"fkjfjew\" , \"fewfe\", \"efijeufhew\", 1, 2]\n",
        "\n",
        "index=0\n",
        "while index < len(my_list):\n",
        "  print(my_list[index])\n",
        "  index +=1\n"
      ],
      "metadata": {
        "colab": {
          "base_uri": "https://localhost:8080/"
        },
        "id": "S4C1DcSeMAl4",
        "outputId": "697aabc2-ac55-4aaa-a3e0-1f91033eff24"
      },
      "execution_count": 5,
      "outputs": [
        {
          "output_type": "stream",
          "name": "stdout",
          "text": [
            "fkjfjew\n",
            "fewfe\n",
            "efijeufhew\n",
            "1\n",
            "2\n"
          ]
        }
      ]
    },
    {
      "cell_type": "code",
      "source": [],
      "metadata": {
        "id": "3W7eJ6g-MBdE"
      },
      "execution_count": null,
      "outputs": []
    }
  ]
}